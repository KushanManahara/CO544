{
 "cells": [
  {
   "cell_type": "code",
   "execution_count": 28,
   "id": "b6b455d8",
   "metadata": {},
   "outputs": [
    {
     "name": "stdout",
     "output_type": "stream",
     "text": [
      "40\n"
     ]
    }
   ],
   "source": [
    "import numpy as np\n",
    "sampleSizeRange = np.linspace(101, 200, 40)\n",
    "plotVar = np.zeros(len(sampleSizeRange))\n",
    "samples = len(sampleSizeRange)\n",
    "print(samples)\n",
    "# print(plotVar)\n",
    "# print(sampleSizeRange)"
   ]
  }
 ],
 "metadata": {
  "kernelspec": {
   "display_name": "Python 3 (ipykernel)",
   "language": "python",
   "name": "python3"
  },
  "language_info": {
   "codemirror_mode": {
    "name": "ipython",
    "version": 3
   },
   "file_extension": ".py",
   "mimetype": "text/x-python",
   "name": "python",
   "nbconvert_exporter": "python",
   "pygments_lexer": "ipython3",
   "version": "3.9.13"
  }
 },
 "nbformat": 4,
 "nbformat_minor": 5
}
