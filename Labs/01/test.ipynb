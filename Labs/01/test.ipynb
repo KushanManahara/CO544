{
 "cells": [
  {
   "cell_type": "code",
   "execution_count": 33,
   "id": "c917a87a",
   "metadata": {},
   "outputs": [
    {
     "name": "stdout",
     "output_type": "stream",
     "text": [
      "40\n",
      "[0. 0. 0. 0. 0. 0. 0. 0. 0. 0. 0. 0. 0. 0. 0. 0. 0. 0. 0. 0. 0. 0. 0. 0.\n",
      " 0. 0. 0. 0. 0. 0. 0. 0. 0. 0. 0. 0. 0. 0. 0. 0.]\n"
     ]
    }
   ],
   "source": [
    "import numpy as np\n",
    "sampleSizeRange = np.linspace(101, 200, 40)\n",
    "plotVar = np.zeros(len(sampleSizeRange))\n",
    "samples = len(sampleSizeRange)\n",
    "print(samples)\n",
    "print(plotVar)\n",
    "# print(sampleSizeRange)\n",
    "\n",
    "# for sSize in range(samples):\n",
    "#     numSamples = np.init(sampleSizeRange[sSize])\n",
    "#     MaxTrial = 2000\n",
    "#     vStrial = np.zeros(MaxTrial)"
   ]
  }
 ],
 "metadata": {
  "kernelspec": {
   "display_name": "Python 3 (ipykernel)",
   "language": "python",
   "name": "python3"
  },
  "language_info": {
   "codemirror_mode": {
    "name": "ipython",
    "version": 3
   },
   "file_extension": ".py",
   "mimetype": "text/x-python",
   "name": "python",
   "nbconvert_exporter": "python",
   "pygments_lexer": "ipython3",
   "version": "3.9.13"
  }
 },
 "nbformat": 4,
 "nbformat_minor": 5
}
